{
    "cells": [
        {
            "metadata": {
                "collapsed": true
            },
            "cell_type": "markdown",
            "source": "# My Jupyter NoteBook on IBM Watson Studio"
        },
        {
            "metadata": {},
            "cell_type": "markdown",
            "source": "Steven Ha"
        },
        {
            "metadata": {},
            "cell_type": "markdown",
            "source": "_I am interested in data science because I want to be able to draw conclusion from data to solve problem for bussines_"
        },
        {
            "metadata": {},
            "cell_type": "markdown",
            "source": "### My code below will check whether number 7 is positive or negative"
        },
        {
            "metadata": {},
            "cell_type": "code",
            "source": "number = 7\nif number > 0:\n    print(\"positive number\")\nelse:\n    print(\"negative\")",
            "execution_count": 9,
            "outputs": [
                {
                    "output_type": "stream",
                    "text": "positive number\n",
                    "name": "stdout"
                }
            ]
        },
        {
            "metadata": {},
            "cell_type": "markdown",
            "source": "### table\n\n1. Tomato\n2. Apple\n\n|Items|Price (Dollar)|quatity|\n|---|---|---|\n|Tomato|1.00|1|\n|---|---|---|\n|Apple|4.00|3|"
        }
    ],
    "metadata": {
        "kernelspec": {
            "name": "python3",
            "display_name": "Python 3.10",
            "language": "python"
        },
        "language_info": {
            "name": "python",
            "version": "3.10.6",
            "mimetype": "text/x-python",
            "codemirror_mode": {
                "name": "ipython",
                "version": 3
            },
            "pygments_lexer": "ipython3",
            "nbconvert_exporter": "python",
            "file_extension": ".py"
        }
    },
    "nbformat": 4,
    "nbformat_minor": 1
}